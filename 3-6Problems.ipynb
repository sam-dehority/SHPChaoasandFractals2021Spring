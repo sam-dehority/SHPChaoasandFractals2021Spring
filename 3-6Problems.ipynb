{
 "cells": [
  {
   "cell_type": "markdown",
   "metadata": {
    "collapsed": false
   },
   "source": [
    "# Problem 1\n",
    "\n",
    "This problem concerns the 'bulbs' in the Mandelbrot set $M$ and is our first real result about the structure of $M$. \n",
    "\n",
    "1. Problem 1 is a continuation of problem 2 from `2-27Poblems` so make sure that you are familiar with the solution presented there. As an exercise, use the code in that file and `julia_plot(interact = True)` to find a value $c$ so that the corresponding filled Julia set seems like it would have an attracting periodic orbit of period $n$ for some (smallish) $n$ that you choose. Plot the iterates of $0$ and see that they tend to your guess for the attracting periodic orbit. \n",
    "2. You will hopefully have noticed by now that all of the points in the same \"bulb\" of the Mandelbrot set have the same attracting periodic orbit structure. This problem is to discover a method to find a distinguished value $c$ in each bulb of the Mandelbrot set. First recall that if for a value $c$, there exists an attracting periodic orbit then the iterates \n",
    "$$0 \\mapsto f_c(0) \\mapsto \\cdots \\mapsto f_c^n(0) \\mapsto \\cdots $$\n",
    "get close to that orbit, and vice versa, if these iterates tend to a periodic orbit then that is an attracting orbit. One way to find $c$ such that the iterates tend to a periodic orbit is *if 0 already lies in a periodic orbit*. \n",
    "    a. Consider the equation \n",
    "    $$f_c^{n}(0) = 0$$\n",
    "    expand this equation out for small values of $n$, explicitly plugging in $f_c(z) = z^2 + c$. \n",
    "    \n",
    "    b. Use this to find, for small values of $n$ (say, $n \\in \\{1, 2, 3,4, 5, 6\\}$ or fewer if it is running slowly) all values of $c$ such that $0$ lies on an attracting periodic orbit. \n",
    "    \n",
    "    c. Plot these together with the mandelbrot set (maybe copying `plot_with_mandelbrot` from `2-27Problems`) and notice they do actually lie in these bulbs. \n",
    "    \n",
    "These points are called the **centers** of the bulbs. We can now actually state an unsolved problem in mathematics (and a pretty important one in this field)\n",
    "\n",
    "> **Density of Hyperbolicity** Does every point $c$ in $M$ which is in the interior of $M$ (i.e. $c$ is colored black and all nearby $c'$ are also colored black) lie in one of the bulbs? \n",
    "\n",
    "This is called the density of hyperbolicity conjecture because these bulbs are technically called *hyperbolic components*. Mathematicians are pretty confident that this is true and have some ideas of how to prove this but it's still unknown!"
   ]
  },
  {
   "cell_type": "markdown",
   "metadata": {
    "collapsed": false
   },
   "source": [
    "---\n",
    "# Problem 2 \n",
    "\n",
    "This problem concerns the question as to why the Julia set is a fractal. Specifically, we intend to demonstrate that the Julia set is *self-similar*. To be pedantic, it is actually not precisely self-similar but *quasi-self-similar* meaning that at different length-scales there are slight variations in structure. In my opinion this is cooler!\n",
    "\n",
    "We will use what we know about holomorphic maps, and in particular the fact that they are conformal where their derivative doesn't vanish. \n",
    "\n",
    "We'll use the code from the demo \n",
    "\n",
    "    def mapped_circle(center, radius, f, num_circles = 5, num_splines = 10, color = 'orange', thickness = .4, fillalpha= .1):\n",
    "        center_coords = (CDF(center).real(), CDF(center).imag())\n",
    "        radii = [radius/num_circles * k for k in range(1, num_circles + 1)]\n",
    "        angles = [pi *θ / (num_splines) for θ in range(num_splines)]\n",
    "        coords_f = lambda x,y : ((z := f(x + I*y)).real(), z.imag())\n",
    "        t = var('t')\n",
    "        spline = lambda θ : parametric_plot(coords_f(cos(θ)*t + center_coords[0] , sin(θ)*t + center_coords[1]), (t , -radius, radius), color = color, thickness = thickness)\n",
    "        circ = lambda r : parametric_plot(coords_f(r*cos(t) + center_coords[0], r*sin(t) + center_coords[1]), (t,0,2*pi), color = color, fill = True, fillcolor = color, fillalpha = 0.1, thickness = thickness)\n",
    "        return sum(spline(θ) for θ in angles) + sum(circ(r) for r in radii )\n",
    "\n",
    "which allows one to plot circles in the complex plane, and their images under holomorphic maps, in particular under the maps $f_c : z \\mapsto z^2 + c$. \n",
    "\n",
    "Here are the steps to see that a Julia set should be self similar:\n",
    "\n",
    "1. Pick some value of $c$. It should work with any but maybe it's more clear if $c\\in M$. The value $c = -1.14 + .25i$ is as good an example as any. \n",
    "2. Create a graphics object of a circle using the code provided. For the starting circle we want to use the map $z \\mapsto z$ and plug this in to `mapped_circle` given in code by \n",
    "    \n",
    "        id(z) = z\n",
    "        circle1 = mapped_circle((__, __), ____, id) #the first argument is the x and y coordinates of the center of the circle. The second is its radius. \n",
    "        \n",
    "   selecting appropriate values for the x and y coordinates of the center and for the radius. You can also, for example, modify it's color by adding the argument `color = ____`. \n",
    "3. Copy or load the `plot_with_julia` function from `2-20Problems` and plot the Julia set for $f_c$ together with this circle\n",
    "\n",
    "        plot_with_julia(circle1, id, pixel_count = 1000)\n",
    "    \n",
    "   it would be best (for later) to modify the circle so that the radius is not too large or small (0.4 is a good choice) and that it lies over the boundary of the filled Julia set, and contains some points pretty far away from the Julia set. \n",
    "   \n",
    "4. Create circle that come from mapping this circle under $f_c$, and plot them together with `circle1` and the Julia set\n",
    "\n",
    "        f(z) = z^2 + c\n",
    "        circle2 = mapped_circle((__, __), ____, f) #use the same values\n",
    "        plot_with_julia(circle1 + circle2, f, pixel_count = 1000)\n",
    "       \n",
    "   This shows the plot of the circle $C$ you started with, together with $f_c(C)$. This should already give you an indication of why the Julia set is quasi-self-similar. \n",
    "   Can you choose a function to insert into `circle3 = mapped_circle(______)` to plot the image of $f_c(C)$ under $f_c$? I.e. $f_c^2(C)$? What about $f_c^3(C)$? Plot all of these together. \n",
    "5. Using this picture as a guide, can you prove using the properties of holomorphic maps, that the Julia set is quasi-self-similar? "
   ]
  },
  {
   "cell_type": "code",
   "execution_count": 0,
   "metadata": {
    "collapsed": false
   },
   "outputs": [
   ],
   "source": [
   ]
  }
 ],
 "metadata": {
  "kernelspec": {
   "display_name": "SageMath 9.2",
   "language": "sagemath",
   "metadata": {
    "cocalc": {
     "description": "Open-source mathematical software system",
     "priority": 10,
     "url": "https://www.sagemath.org/"
    }
   },
   "name": "sage-9.2",
   "resource_dir": "/ext/jupyter/kernels/sage-9.2"
  }
 },
 "nbformat": 4,
 "nbformat_minor": 4
}