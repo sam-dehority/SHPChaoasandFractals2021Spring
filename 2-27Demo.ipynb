{
 "cells": [
  {
   "cell_type": "markdown",
   "metadata": {
    "collapsed": false
   },
   "source": [
    "# SHP Chaos and Fractals 2-27 Demo\n",
    "\n",
    "The goals for today are to learn about\n",
    "\n",
    "* Stable and unstable fixed points of a dynamical system\n",
    "* A precise definition of a **bifurcation** namely a value of a parameter of the system where the stability structure of the system changes\n",
    "* **Bifurcations diagrams** which plot the stability structure as the parameter changes, and frequently have fractal structures for chaotic systems"
   ]
  },
  {
   "cell_type": "markdown",
   "metadata": {
    "collapsed": false
   },
   "source": [
    "-----\n",
    "### The logistic equation for population growth\n",
    "\n",
    "We examine the various plots of solutions to the logistic equation which is a simple model for growth of a population $P(t)$ at time $t$\n",
    "\n",
    "$$\\frac{dP}{dt} = rP\\left(1 -\\frac{P}{K}\\right) $$\n",
    "with growth rate $r$ and carrying capacity $K$. \n",
    "\n",
    "We could use the sagemath function `desolve` to solve the differential equation and then `plot` to plot a number of its solutions for various initial values, but we actually know that all solutions to this equation look like, for inital population $P_0$,\n",
    "\n",
    "$$P(t) = \\frac{K P_0 e^{rt}}{K + P_0( e^{r t} -1)}$$"
   ]
  },
  {
   "cell_type": "code",
   "execution_count": 26,
   "metadata": {
    "collapsed": false
   },
   "outputs": [
   ],
   "source": [
    "%display latex\n",
    "#r = 2\n",
    "#K = 20\n",
    "#t = var('t')\n",
    "#P(p0, t) = K*p0 * exp(r*t)/(K + p0*(exp(r*t) -1))\n",
    "#P(p0, t)\n",
    "#pinits = list(range(30))\n",
    "#sum(plot(P(pinit, t), (t, 0, 8)) for pinit in pinits)"
   ]
  },
  {
   "cell_type": "markdown",
   "metadata": {
    "collapsed": false
   },
   "source": [
    "---\n",
    "## Example of a bifurcation - toy model of a laser\n",
    "\n",
    "Our first example of a bifurcation (which is maybe not the simplest, but at least is interesting), is a toy model for a laser. This is from Strogatz p. 54, see there for a good explanation of why this is an okay model and its drawbacks.\n",
    "This is a differential equation for the number $n(t)$ of excited photons in a laser given by the equation \n",
    "$$\\frac{dn}{dt} = n(N_0 - \\alpha n) - kn $$ \n",
    "where \n",
    "\n",
    "* $k$ denotes the inverse of the typical time a photon stays in the laser\n",
    "* $N_0$ is the number of photons which are energized by the power system of the laser in unit time\n",
    "* $\\alpha$ is the rate at which photons return to the ground state\n",
    "\n",
    "We will plot the bifurcation diagram: as $N_0$ changes we will look at the *stable* fixed points of $n$. We can do this just by iterating on some non-zero starting value and finding where it ends up. \n"
   ]
  },
  {
   "cell_type": "code",
   "execution_count": 46,
   "metadata": {
    "collapsed": false
   },
   "outputs": [
   ],
   "source": [
    "#k = 10\n",
    "#a = 1\n",
    "#def find_stable_point(N0):\n",
    "#    t = var('t')\n",
    "#    n = function('n')(t)\n",
    "#    sol = desolve_rk4(diff(n,t) == n*(N0 - a*n) - k*n,n,ics=[0,10], ivar = t)\n",
    "#    return sol[-1][-1]\n",
    "#list_plot([ find_stable_point(N0) for N0 in range(1,20)], plotjoined=True)"
   ]
  }
 ],
 "metadata": {
  "kernelspec": {
   "display_name": "SageMath 9.2",
   "language": "sagemath",
   "metadata": {
    "cocalc": {
     "description": "Open-source mathematical software system",
     "priority": 10,
     "url": "https://www.sagemath.org/"
    }
   },
   "name": "sage-9.2",
   "resource_dir": "/ext/jupyter/kernels/sage-9.2"
  },
  "language_info": {
   "codemirror_mode": {
    "name": "ipython",
    "version": 3
   },
   "file_extension": ".py",
   "mimetype": "text/x-python",
   "name": "python",
   "nbconvert_exporter": "python",
   "pygments_lexer": "ipython3",
   "version": "3.8.5"
  }
 },
 "nbformat": 4,
 "nbformat_minor": 4
}