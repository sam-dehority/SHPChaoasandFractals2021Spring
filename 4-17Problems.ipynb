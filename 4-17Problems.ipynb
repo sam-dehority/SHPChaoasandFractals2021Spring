{
 "cells": [
  {
   "cell_type": "markdown",
   "metadata": {
    "collapsed": false
   },
   "source": [
    "# 4-20 Problem\n",
    "\n",
    "The goal of these problems is to apply what we have learned in the demo about box-counting dimension to Julia sets.\n",
    "\n",
    "## Problems \n",
    "\n",
    "1. First we need our approximation to the Julia set we will use. The best choice for this problem is probably the back_iterates of a large radius circle - since this tends to the boundary of the Julia set.\n",
    "\n",
    "        load('SHPChaos.sage')\n",
    "        c = _____ #pick your favorite\n",
    "        n = 10 \n",
    "        starting_points = 20\n",
    "        L = circle_points(radius = 15, num_points = starting_points)\n",
    "        points = back_iterates_n(L, c, n , tolerance = 0.01)[n-1]\n",
    "        list_plot(points)\n",
    "     \n",
    "2. Use the code from the demo to estimate its box dimension: follow the steps that were done in the demo but with this list instead of `sierpinski(10)`\n",
    "\n",
    "3. How does the fractal dimension change as we vary c? What is the difference in fractal dimension when c is a) inside $M$, b) outside $M$?"
   ]
  },
  {
   "cell_type": "code",
   "execution_count": 0,
   "metadata": {
    "collapsed": false
   },
   "outputs": [
   ],
   "source": [
   ]
  }
 ],
 "metadata": {
  "kernelspec": {
   "display_name": "SageMath 9.2",
   "language": "sagemath",
   "metadata": {
    "cocalc": {
     "description": "Open-source mathematical software system",
     "priority": 10,
     "url": "https://www.sagemath.org/"
    }
   },
   "name": "sage-9.2",
   "resource_dir": "/ext/jupyter/kernels/sage-9.2"
  },
  "language_info": {
   "codemirror_mode": {
    "name": "ipython",
    "version": 3
   },
   "file_extension": ".py",
   "mimetype": "text/x-python",
   "name": "python",
   "nbconvert_exporter": "python",
   "pygments_lexer": "ipython3",
   "version": "3.8.5"
  }
 },
 "nbformat": 4,
 "nbformat_minor": 4
}