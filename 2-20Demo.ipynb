{
 "cells": [
  {
   "cell_type": "markdown",
   "metadata": {
    "collapsed": false
   },
   "source": [
    "# SHP Chaos and Fractals 2/20 Demo\n",
    "\n",
    "Using SageMath and an introduction to complex dynamics.\n",
    "\n",
    "This course is basically entirely about maps \n",
    "$$f: \\CC \\to \\CC$$\n",
    "defined by \n",
    "$$f(z) = z^2 + c$$"
   ]
  },
  {
   "cell_type": "code",
   "execution_count": 8,
   "metadata": {
    "collapsed": false
   },
   "outputs": [
    {
     "data": {
      "text/html": [
       "<html><script type=\"math/tex; mode=display\">\\newcommand{\\Bold}[1]{\\mathbf{#1}}z \\ {\\mapsto}\\ z^{2} - 0.120000000000000 - 0.745000000000000i</script></html>"
      ],
      "text/latex": [
       "\\begin{math}\n",
       "\\newcommand{\\Bold}[1]{\\mathbf{#1}}z \\ {\\mapsto}\\ z^{2} - 0.120000000000000 - 0.745000000000000i\n",
       "\\end{math}"
      ],
      "text/plain": [
       "z |--> z^2 - 0.120000000000000 - 0.745000000000000*I"
      ]
     },
     "execution_count": 8,
     "metadata": {
     },
     "output_type": "execute_result"
    }
   ],
   "source": [
    "%display latex\n",
    "R.<z> = CC[]\n",
    "c = -0.12 - 0.745*I\n",
    "f(z) = z^2 + c\n",
    "f"
   ]
  },
  {
   "cell_type": "code",
   "execution_count": 9,
   "metadata": {
    "collapsed": false
   },
   "outputs": [
    {
     "data": {
      "text/html": [
       "<html><script type=\"math/tex; mode=display\">\\newcommand{\\Bold}[1]{\\mathbf{#1}}63926.7749043735 - 21030.1730904453i</script></html>"
      ],
      "text/latex": [
       "\\begin{math}\n",
       "\\newcommand{\\Bold}[1]{\\mathbf{#1}}63926.7749043735 - 21030.1730904453i\n",
       "\\end{math}"
      ],
      "text/plain": [
       "63926.7749043735 - 21030.1730904453*I"
      ]
     },
     "execution_count": 9,
     "metadata": {
     },
     "output_type": "execute_result"
    }
   ],
   "source": [
    "z1 = -16.0575000000000 + 1.25500000000000*I\n",
    "f(f(z1))"
   ]
  },
  {
   "cell_type": "code",
   "execution_count": 10,
   "metadata": {
    "collapsed": false
   },
   "outputs": [
    {
     "data": {
      "text/html": [
       "<html><script type=\"math/tex; mode=display\">\\newcommand{\\Bold}[1]{\\mathbf{#1}}3.64436436934035 \\times 10^{9} - 2.68878228345082 \\times 10^{9}i</script></html>"
      ],
      "text/latex": [
       "\\begin{math}\n",
       "\\newcommand{\\Bold}[1]{\\mathbf{#1}}3.64436436934035 \\times 10^{9} - 2.68878228345082 \\times 10^{9}i\n",
       "\\end{math}"
      ],
      "text/plain": [
       "3.64436436934035e9 - 2.68878228345082e9*I"
      ]
     },
     "execution_count": 10,
     "metadata": {
     },
     "output_type": "execute_result"
    }
   ],
   "source": [
    "def iterate(f, n, x):\n",
    "    if n == 1:\n",
    "        return (f(x))\n",
    "    else:\n",
    "        return(f(iterate(f, n-1, f(x))))\n",
    "\n",
    "iterate(f,2, z1)"
   ]
  },
  {
   "cell_type": "code",
   "execution_count": 19,
   "metadata": {
    "collapsed": false
   },
   "outputs": [
    {
     "data": {
      "image/png": "[encoded data removed]",
      "text/plain": [
       "Graphics object consisting of 100 graphics primitives"
      ]
     },
     "execution_count": 19,
     "metadata": {
     },
     "output_type": "execute_result"
    }
   ],
   "source": [
    "def plot_iterates(f,num_iterates, x, color = 'blue'):\n",
    "    pts = point((x.real(), x.imag()), color = color)\n",
    "    for i in range(1, num_iterates):\n",
    "        new = iterate(f, i, x)\n",
    "        if abs(new) < 10:\n",
    "            pts = pts + point((new.real(), new.imag()), color = color)\n",
    "    return(pts)\n",
    "plot_iterates(f, 100, N(.25), color = 'red')"
   ]
  },
  {
   "cell_type": "code",
   "execution_count": 11,
   "metadata": {
    "collapsed": false
   },
   "outputs": [
    {
     "data": {
      "application/vnd.jupyter.widget-view+json": {
       "model_id": "fa80474023784b2292bcbb4d50b03e43",
       "version_major": 2,
       "version_minor": 0
      },
      "text/plain": [
       "interactive(children=(FloatSlider(value=-0.12, description='Real c', max=2.0, min=-2.0, step=1e-05), FloatSlid…"
      ]
     },
     "execution_count": 11,
     "metadata": {
     },
     "output_type": "execute_result"
    }
   ],
   "source": [
    "julia_plot(f, interact=True)"
   ]
  }
 ],
 "metadata": {
  "kernelspec": {
   "display_name": "SageMath 9.2",
   "language": "sagemath",
   "metadata": {
    "cocalc": {
     "description": "Open-source mathematical software system",
     "priority": 10,
     "url": "https://www.sagemath.org/"
    }
   },
   "name": "sage-9.2",
   "resource_dir": "/ext/jupyter/kernels/sage-9.2"
  },
  "language_info": {
   "codemirror_mode": {
    "name": "ipython",
    "version": 3
   },
   "file_extension": ".py",
   "mimetype": "text/x-python",
   "name": "python",
   "nbconvert_exporter": "python",
   "pygments_lexer": "ipython3",
   "version": "3.8.5"
  }
 },
 "nbformat": 4,
 "nbformat_minor": 4
}