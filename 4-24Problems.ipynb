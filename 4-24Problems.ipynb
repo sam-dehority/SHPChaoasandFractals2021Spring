{
 "cells": [
  {
   "cell_type": "markdown",
   "metadata": {
    "collapsed": false
   },
   "source": [
    "#  4-24 Problems\n",
    "\n",
    "We will learn something more about Lyapunov exponents and about strange atractors. \n",
    "\n",
    "1. Go back through the demo code where we calculated the Lyapunov exponent for the separation of two orbits and pick a different starting point. Do you get a different value for the exponent? \n",
    "2. In this problem we'll see an example of different Lyapunov exponents for a system with an **attracting** perodic trajectory. This example is the [Van der Pol oscilator](https://en.wikipedia.org/wiki/Van_der_Pol_oscillator). Given by the equations \n",
    "\n",
    "\\begin{align}\n",
    "\\dot{x} &= p ~~~ \\text{          i.e.   } p = \\dot{x}\\\\\n",
    "\\dot{p} &= \\mu(1-x^2)p - x\n",
    "\\end{align}\n",
    "where $\\mu$ is some constant, take $\\mu = 3$ for example. \n",
    "Here is some code that does similar things to the demo but for this example:\n",
    "\n",
    "    x,p=var('x,p')\n",
    "    μ = 3\n",
    "\n",
    "    VdP=[p, μ*(1-x^2)*p - x]\n",
    "\n",
    "    N=1000\n",
    "    tmax=25\n",
    "    h=tmax/N\n",
    "    times=srange(0,tmax+h,h)\n",
    "    initial=[0,0.1]\n",
    "    sol=desolve_odeint(VdP,initial,times,[x,p])\n",
    "    list_plot(sol, plotjoined = True, thickness = 0.5) \n",
    "    \n",
    "Now follow through the remaining steps in the demo code and find the Lyapunov exponent for a) two nearby trajectories inside the perodic orbit and b) two nearby trajectories outside the perodic orbit\n",
    "\n",
    "3. Now we will see that the Lorenz strange attractor is actually a fractal. We're going to do this using a **Poincare section** (see the [wikipedia article](https://en.wikipedia.org/wiki/Poincar%C3%A9_map)). We want to calculate a fractal dimension, but our code only does this for 2d. Luckily we can turn this 3d continous time system into a 2d discrete time system by asking for when the trajectory intersects a given plane. The next time it intersects the plane is the next discrete time in the discrete system:\n",
    "![poincare](poincarelorenz.png)\n",
    "\n",
    "Now do the following: a) define `sol` to be a list giving a trajectory of the Lorenz system using the demo code. (this should be an easy copy and paste. Make sure to use the interesting values of the parameters). b) Use the following to get points on the Poincare section at $z = 25$\n",
    "\n",
    "    sol = # Your list\n",
    "    tolerance = 0.01  # Play around with this to make sure that we only get ONE point in the following for each time the trajectory intersects the plane\n",
    "    intersects_poincare = [(x,y) for [x,y,z] in sol if abs(z - 25) < tolerance]\n",
    "    list_plot(intersects_poincare)\n",
    "    \n",
    "There is also probably a more robust way to do this: maybe with something like the following:\n",
    "\n",
    "    sol = # same list\n",
    "    def poincare(points_3d, z_plane = 25, tolerance = 0.1):\n",
    "        intersection = []\n",
    "        just_crossed = False\n",
    "        for [x,y,z] in points_3d:\n",
    "            z_diff = abs(z - z_plane)\n",
    "            if just_crossed and z_diff > tolerance:\n",
    "                just_crossed = False\n",
    "            elif just_crossed and z_diff < tolerance:\n",
    "                continue\n",
    "            elif not just_crossed and z_diff > tolerance:\n",
    "                continue\n",
    "            else:\n",
    "                intersection.append((x,y))\n",
    "                just_crossed = True\n",
    "        return intersection\n",
    "    intersects_poincare = poincare(sol)\n",
    "        \n",
    "    \n",
    "Finally, c) use the code in `4-17DemoCorrect.ipynb` and `4-17Problems.ipynb` solutions to calculate the fractal (i.e. box-counting) dimension of this. It should be less than 1, but not zero, as would be the case for the classical dimension of a collection of points. \n",
    "\n"
   ]
  }
 ],
 "metadata": {
  "kernelspec": {
   "display_name": "SageMath 9.2",
   "language": "sagemath",
   "metadata": {
    "cocalc": {
     "description": "Open-source mathematical software system",
     "priority": 10,
     "url": "https://www.sagemath.org/"
    }
   },
   "name": "sage-9.2",
   "resource_dir": "/ext/jupyter/kernels/sage-9.2"
  },
  "language_info": {
   "codemirror_mode": {
    "name": "ipython",
    "version": 3
   },
   "file_extension": ".py",
   "mimetype": "text/x-python",
   "name": "python",
   "nbconvert_exporter": "python",
   "pygments_lexer": "ipython3",
   "version": "3.8.5"
  }
 },
 "nbformat": 4,
 "nbformat_minor": 4
}