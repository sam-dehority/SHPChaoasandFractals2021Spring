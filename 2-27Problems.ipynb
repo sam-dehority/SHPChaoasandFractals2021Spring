{
 "cells": [
  {
   "cell_type": "markdown",
   "metadata": {
    "collapsed": false
   },
   "source": [
    "# Problem 1\n",
    "\n",
    "The goal of this problem is to understand the bifurcation diagram of a discrete-time version of the logistic equation we have studied. Our *bifurcation parameter* is the rate $r$ and our map is the \n",
    "discrete time map \n",
    "$$ p \\mapsto rp (1 -p)$$\n",
    "or maybe more accurately $p_{n+1} = rp_n(1-p_n)$. \n",
    "(notice the similarity to the logistic differential equation). We want to give a diagram where the $x$-axis is the value of the bifurcation parameter $r$ and the $y$ axis is all points where $p_n$ can end up at as $n\\to \\infty$. We can restrict to values of $p$ between $0$ and $1$, and values of $r$ between $0$ and $4$. \n",
    "\n",
    "1. Write a function which takes a value of `r`, a starting value `p_0`, and a number `N` and returns `p_N`\n",
    "\n",
    "       def iterate_logistic(r, p0, N):\n",
    "           ...\n",
    "           return pN\n",
    "           \n",
    "2. Write a function which takes a given value of the bifurcation parameter `r` and returns a list of `p` values that can be obtained after a very long time\n",
    "  \n",
    "        def attracting_values(r):\n",
    "            ...\n",
    "            return vals\n",
    "    \n",
    "   A few hints: create a list of starting values, maybe `starting_vals = [p*0.02 for p in range(1, 50)]` and then iterate each of these starting values. You can again use a list comprehension, maybe \n",
    "   `vals = [iterate_logistic(r, p0, 50) for p0 in starting_vals]`\n",
    "   \n",
    "3. Plot all of these points, keeping track of their $r$ and $p$ coordinates. We want to do this like how we plotted `plot_iterates` in the `2-20Demo` file, except the x and y coordinates will be $r$ and $p$ instead of `z.real()` and `z.imag()`. \n",
    "\n",
    "        def logistic_bifurcation():\n",
    "            pts = point((0,0), size = 2)\n",
    "            for r in [0.02*r for r in range(1,200)]: # iterate from 0.04 to 4 with small step size\n",
    "                attracting = #  how do we find the attracting values? \n",
    "                for p in attracting:\n",
    "                    pts += point(_______, size = 2) # fill in which point to add, you can also play with these values, e.g. the size of the points\n",
    "             return pts\n",
    "        show(logistic_bifurcation())\n",
    "        \n",
    "Modify the numbers and sizes of things to make something which terminates, but it can take a while regardless. Also check \"Logistic map\" on wikipedia to see if yours looks right"
   ]
  },
  {
   "cell_type": "markdown",
   "metadata": {
    "collapsed": false
   },
   "source": [
    "-----\n",
    "# Problem 2\n",
    "\n",
    "This problem deals with the **stability** and **instability** of fixed points and periodic orbits of iterated quadratic maps. Look at the solution to the last problem from `2-20Problems` which describes the Julia set for $z\\mapsto z^2 + c$ when $c = -0.61 + 0.42i$, together with a periodic orbit of order $7$ (i.e. of period 7, $f^7(z) = z$ for each of these seven points. We want to see determine whether this orbit is **stable** or **unstable**. Here is how\n",
    "\n",
    "1. Use `plot_with_julia(point((_,_), color = 'white'), f)` for various values of coordinates for the point to find a point which is very close to one of the points in the periodic orbit\n",
    "\n",
    "2. Combine the `plot_iterates` function from `2-20Demo` to produce iterates of this point you found, and the `plot_with_julia` function from `2-20Problems` to plot both this julia set and the iterates of you point you found in the last step. Do the points stabilize to this orbit or tend elsewhere?\n",
    "\n",
    "3. Can you find an unstable orbit of some order? HINT: This should be very easy - if a periodic point lies on the boundary of the filled Julia set, can you think of nearby points that couldn't possibly tend to a periodic orbit? I.e. you shouldn't have to compute `plot_iterates` to deduce that some orbit is unstable. \n",
    "\n",
    "4. Use `julia_plot(interactive=True, mandelbrot = True)` to try to guess values $c$ in the Mandelbrot set where the corresponding dynamical system $z\\mapsto z^2 + c$ has a stable periodic orbit of order $n$ for a given integer $n$. Verify this with the `plot_julia_with_periodic_points` function in a few examples that you found. "
   ]
  },
  {
   "cell_type": "code",
   "execution_count": 0,
   "metadata": {
    "collapsed": false
   },
   "outputs": [
   ],
   "source": [
   ]
  }
 ],
 "metadata": {
  "kernelspec": {
   "display_name": "SageMath 9.2",
   "language": "sagemath",
   "metadata": {
    "cocalc": {
     "description": "Open-source mathematical software system",
     "priority": 10,
     "url": "https://www.sagemath.org/"
    }
   },
   "name": "sage-9.2",
   "resource_dir": "/ext/jupyter/kernels/sage-9.2"
  },
  "language_info": {
   "codemirror_mode": {
    "name": "ipython",
    "version": 3
   },
   "file_extension": ".py",
   "mimetype": "text/x-python",
   "name": "python",
   "nbconvert_exporter": "python",
   "pygments_lexer": "ipython3",
   "version": "3.8.5"
  }
 },
 "nbformat": 4,
 "nbformat_minor": 4
}