{
 "cells": [
  {
   "cell_type": "markdown",
   "metadata": {
    "collapsed": false
   },
   "source": [
    "# Problem 1\n",
    "\n",
    "Recall that there are essentially three types of periodic orbits for iterated maps $f$.  They are based on a neighborhood of the corresponding fixed point $x$ for the map $f^n$ where $n$ is the order of $x$. We know that we can choose coordinates around this fixed point so that we can assume $ z= 0$. I.e. pick a disc around $z$ centered at $z$ and say that this is actually the unit disk. Then $f(0) = 0$ so that we have a Taylor series \n",
    "$$f(z) = \\lambda z + a_2z^2 + \\cdots$$ without constant terms since $f(0) = 0$. Here $\\lambda = f'(0)$ is some complex number.\n",
    "\n",
    "1. **Attracting** orbits, where $ 0 \\le |\\lambda| < 1$. \n",
    "2. **Repelling** orbits, where $|\\lambda| > 1$\n",
    "3. **Neutral** if $|\\lambda| = 1$, or $\\lambda$ lies on the unit circle. \n",
    "\n",
    "A key subtype of neutral orbits are **parabolic** orbits, where not only does $\\lambda$ lie on the unit circle, but $\\lambda^k = 1$ for some $k$ (i.e. $\\lambda = (1)^{1/n}$). For this case we also assume that $f(z)$ has higher degree terms, i.e. we don't have $f(z) = \\lambda(z)$. \n",
    "\n",
    "An important fact is that the sagemath command `julia_plot` doesn't require that $f$ be a quadratic polynomial. For this problem, use the function to plot the Julia plots near periodic orbits of each of these types, and understand what the structure of the Julia set is near these types of points. You can also plot iterates of points nearby to $0$ and explain at least why attracting and repelling periodic orbits have their names. Recall that we have already done the attracting case. "
   ]
  },
  {
   "cell_type": "markdown",
   "metadata": {
    "collapsed": false
   },
   "source": [
    "-----\n",
    "# Problem 2\n",
    "\n",
    "Recall the Riemann mapping theorem, which says that any simply connected bounded domain $U$ in $\\CC$ is conformally equivalent to the open unit disk. Remarkably, this is true even if the boundary of $U$ is some horribly non-differentiable curve. If we apply this to a neighborhood of $\\infty$ which is the outside of the filled Julia set for some $f_c$ where $c \\in M$, then we get a pretty remarkable claim about the geometry of this set despite it's strange boundary. \n",
    "\n",
    "For this problem, we want to visualize the images of the circles $r e^{i\\theta}$ for fixed $r < 1$ and varying $\\theta$ under the Poincare map from the open unit disk to the outside of the Julia set for $f_c$. \n",
    "\n",
    "1. Plot a bunch of points of some large radius, say r = 15. For efficiency, use `list_plot`. We can apply this to a list of complex numbers, for example \n",
    "\n",
    "        list_plot([3, 4 + I, 0.25 + 3.9*I])\n",
    "        \n",
    "   Do this, but our list will consist of `r exp(I*theta)` for some fixed $r$ and $\\theta$ in an arc between $0$ and $2\\pi$. Can you use a list comprehension `[____ for t in range(__, __)]` to produce these complex numbers? If it's not clear why to use points instead of lines, it will become clear later possibly, and will become especially clear if you try it the other way. \n",
    "   \n",
    "2. Write a function which takes a list of complex numbers `L` and returns all of the numbers $z$ such that $z^2 + c$ is in the list `L`. Basically, `for` each element $t$ in `L` we want to find all $z$ such that $z^2 + c = t$.  Hint: Solve this for $z$. Then use a for loop and the method `CDF(q).sqrt(all = True)` which gives a list of all square roots of $q$, and combine all of these solution to a single list, and return this list. \n",
    "\n",
    "3. List_plot all points which map under $f_c$ to our circle from part 1. List_plot all points which map to the new points found in part 2, and all the points mapping to these points, and so on. For a given $k$, write a function which plots the circle from part 1 and its first $k$ *inverse iterates* under $f^2 + c$. These circles should tend to the boundary of the complement of the filled Julia set, and so are the images of the circles $re^{i\\theta}$ under the Poincare map sending the unit disc to this set. \n",
    "\n",
    "4. Now choose $c$ so that $c$ is not in $M$, but is close to the boundary of $M$. What happens when you plot the inverse iterates of large circle? Can you find the point where the behavior of the inverse images of this circle starts to change dramatically? \n",
    "        \n",
    "     "
   ]
  },
  {
   "cell_type": "code",
   "execution_count": 3,
   "metadata": {
    "collapsed": false
   },
   "outputs": [
    {
     "data": {
      "text/plain": [
       "[1.67414922803554 + 0.8959774761298382*I,\n",
       " -1.67414922803554 - 0.8959774761298382*I]"
      ]
     },
     "execution_count": 3,
     "metadata": {
     },
     "output_type": "execute_result"
    }
   ],
   "source": [
    "# an example\n",
    "z = CDF(2 + 3*I)\n",
    "z.sqrt(all = True)"
   ]
  },
  {
   "cell_type": "markdown",
   "metadata": {
    "collapsed": false
   },
   "source": [
    "----\n",
    "# Problem 3\n",
    "\n",
    "Modify the square example of the [Riemann map](https://doc.sagemath.org/html/en/reference/calculus/sage/calculus/riemann.html) in the documentation to find the Riemann map for some complicated polygon of your choice, maybe a star-shape with some number of points? "
   ]
  }
 ],
 "metadata": {
  "kernelspec": {
   "display_name": "SageMath 9.2",
   "language": "sagemath",
   "metadata": {
    "cocalc": {
     "description": "Open-source mathematical software system",
     "priority": 10,
     "url": "https://www.sagemath.org/"
    }
   },
   "name": "sage-9.2",
   "resource_dir": "/ext/jupyter/kernels/sage-9.2"
  }
 },
 "nbformat": 4,
 "nbformat_minor": 4
}
