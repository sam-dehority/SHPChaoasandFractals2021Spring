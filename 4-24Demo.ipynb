{
 "cells": [
  {
   "cell_type": "markdown",
   "metadata": {
    "collapsed": false
   },
   "source": [
    "# 4-24 Demo\n",
    "\n",
    "Today we'll see a measure of chaotic systems, the *Lyapunov exponents*, and calculate them for orbits in the Lorenz strange attractor. \n",
    "\n",
    "The (Lorenz system)[https://en.wikipedia.org/wiki/Lorenz_system] is a 3d system of ODEs \n",
    "\\begin{align}\n",
    "\\dot{x} &= \\sigma(y-x)\\\\\n",
    "\\dot{y} &= x(\\rho - z) - y\\\\\n",
    "\\dot{z} &= xy - \\beta z\n",
    "\\end{align}\n",
    "which depends on 3 parameters $\\sigma, \\rho$ and $\\beta$. There are various physical systems which this set of equations models - the original example was temperature fluctuations in a fluid layer subject to heating from below and cooling from above, for meteorological applications. \n",
    "\n",
    "The most interesting values occur near $\\sigma = 10, \\rho = 28, \\beta = 8/3$. \n"
   ]
  },
  {
   "cell_type": "code",
   "execution_count": 148,
   "metadata": {
    "collapsed": false
   },
   "outputs": [
   ],
   "source": [
    "# Code, copied from somewhere but straightforward enough, to plot the Lorenz attractor \n",
    "\n",
    "x,y,z=var('x,y,z')\n",
    "\n",
    "# Next we define the parameters\n",
    "σ=1 # 10\n",
    "ρ= 15  #28\n",
    "β=8/3\n",
    "\n",
    "# The Lorenz equations\n",
    "lorenz=[σ*(y-x),x*(ρ-z)-y,x*y-β*z]\n",
    "\n",
    "# Time and initial conditions\n",
    "N=25000\n",
    "tmax=250\n",
    "h=tmax/N\n",
    "times=srange(0,tmax+h,h)\n",
    "ics=[0,1,1]\n",
    "sol=desolve_odeint(lorenz,ics,times,[x,y,z])#,rtol=1e-13,atol=1e-14)\n",
    "solX = sol[:, 0]\n",
    "solY = sol[:, 1]\n",
    "solZ = sol[:, 2]"
   ]
  },
  {
   "cell_type": "code",
   "execution_count": 150,
   "metadata": {
    "collapsed": false
   },
   "outputs": [
   ],
   "source": [
    "#line3d(sol)"
   ]
  },
  {
   "cell_type": "markdown",
   "metadata": {
    "collapsed": false
   },
   "source": [
    "So we see that there is an attracting fixed point, and the system spirals into this fixed point. As we approach the more interesting values, something **strange** happens! There is a sort of bifurcation that happens but the orbit that shows up is stable but not very regular. "
   ]
  },
  {
   "cell_type": "code",
   "execution_count": 179,
   "metadata": {
    "collapsed": false
   },
   "outputs": [
   ],
   "source": [
    "x,y,z=var('x,y,z')\n",
    "\n",
    "# Next we define the parameters\n",
    "σ=10\n",
    "ρ= 28\n",
    "β=8/3\n",
    "\n",
    "# The Lorenz equations\n",
    "lorenz=[σ*(y-x),x*(ρ-z)-y,x*y-β*z]\n",
    "\n",
    "# Time and initial conditions\n",
    "N=25000\n",
    "tmax=250\n",
    "h=tmax/N\n",
    "times=srange(0,tmax+h,h)\n",
    "ics=[0,1,1]\n",
    "sol=desolve_odeint(lorenz,ics,times,[x,y,z])#,rtol=1e-13,atol=1e-14)\n",
    "solX = sol[:, 0]\n",
    "solY = sol[:, 1]\n",
    "solZ = sol[:, 2]"
   ]
  },
  {
   "cell_type": "code",
   "execution_count": 183,
   "metadata": {
    "collapsed": false
   },
   "outputs": [
    {
     "data": {
      "text/plain": [
       "0.0500000000000000"
      ]
     },
     "execution_count": 183,
     "metadata": {
     },
     "output_type": "execute_result"
    }
   ],
   "source": [
    "#show(line3d(sol, thickness = 0.4))"
   ]
  },
  {
   "cell_type": "markdown",
   "metadata": {
    "collapsed": false
   },
   "source": [
    "## Lyapunov exponents\n",
    "\n",
    "So we see that, despite that fact that this is an *attractor* in the sense that nearby trajectories get pulled in to the trajectories we see, it's not periodic in the sense that it really repeats - like the orbit of the earth around the sun. We'll measure precisely one aspect of this behavior - that the long-term behavior is extremely sensitive to the initial conditions. Exponentially so!\n",
    "\n",
    "Suppose two trajectories $\\overrightarrow{x}_1(t)$ and $\\overrightarrow{x}_2(t)$ start out extremely close to eachother, so that at time zero, \n",
    "$$|\\overrightarrow{x_1}(0) - \\overrightarrow{x_2}(0)| = \\delta$$  but diverge exponentially, so that \n",
    "\n",
    "$$|\\overrightarrow{x_1}(t) - \\overrightarrow{x_2}(t)| \\approx e^{\\lambda t} \\delta$$\n",
    "\n",
    "Given $\\overrightarrow{x_1}(t)$, the Lyapunov exponents calculate what nearby trajectories $\\overrightarrow{x_2}(t)$ have what possible values of $\\lambda$. If they are all\n",
    "1. **Negative** - then nearby trajectories get closer together, and we have a stable attracting trajectory\n",
    "2. **Positive** - Then nearby trajectories exponentially diverge, our system is highly sensitive on initial conditions, and possibly chaotic, especially if $\\overrightarrow{x_1}(t)$ is part of an attractor. \n",
    "3. **Zero** - then nearby trajectories can only  diverge or contract sub-exponentially. This usually means they stay around the same distance apart. \n",
    "\n",
    "Actually calculating all of the Lyapunov exponents for a dyanmical system is actually not much more difficult that what we will do - but involves some linear algebra. So we will just calculate the exponent $\\lambda$ for two nearby trajectories near the interesting locus in the Lorenz system. "
   ]
  },
  {
   "cell_type": "code",
   "execution_count": 146,
   "metadata": {
    "collapsed": false
   },
   "outputs": [
   ],
   "source": [
    "# Let's package this into a function...\n",
    "\n",
    "def lorenz_solve(initial, N = 25000, tmax = 250, σ=10,ρ= 28, β=8/3):\n",
    "    x,y,z=var('x,y,z')\n",
    "\n",
    "    # Next we define the parameters\n",
    "    σ=10\n",
    "    ρ= 28\n",
    "    β=8/3\n",
    "\n",
    "    # The Lorenz equations\n",
    "    lorenz=[σ*(y-x),x*(ρ-z)-y,x*y-β*z]\n",
    "\n",
    "    # Time and initial conditions\n",
    "    #N=25000\n",
    "    #tmax=250\n",
    "    h=tmax/N\n",
    "    times=srange(0,tmax+h,h)\n",
    "    ics=initial #[0,1,1]\n",
    "    sol=desolve_odeint(lorenz,ics,times,[x,y,z])#,rtol=1e-13,atol=1e-14)\n",
    "    return(sol)\n",
    "\n",
    "\n",
    "# Basicall all of these trajectories nearby the starting point I gave stay the same for a while ( say, t = 10)  but the diverge\n",
    "\n",
    "#line3d(lorenz_solve([0,1,1], tmax = 10, N = 2500), color = 'red') + line3d(lorenz_solve([0,1.1,1], tmax = 10, N = 2500), color = 'blue')\n",
    "\n",
    "\n",
    "#line3d(lorenz_solve([0,1,1], tmax = 21, N = 2500), color = 'red') + line3d(lorenz_solve([0,1.1,1], tmax = 21, N = 2500), color = 'blue')\n"
   ]
  },
  {
   "cell_type": "code",
   "execution_count": 147,
   "metadata": {
    "collapsed": false
   },
   "outputs": [
   ],
   "source": [
    "#However, if we start near the locus where the most \"mixing\" of the two wings happens, we can see divergence pretty quickly. \n",
    "\n",
    "#line3d(lorenz_solve([1,1.5,22], tmax = 3, N = 2500), color = 'red') + line3d(lorenz_solve([1.1,1.5,22], tmax = 3, N = 2500), color = 'blue') + sphere((1,1.5,22),0.5, color = 'green')"
   ]
  },
  {
   "cell_type": "markdown",
   "metadata": {
    "collapsed": false
   },
   "source": [
    "We want to calculate the separation for relatively small times between two orbits that start very close to eachother, say \n",
    "$$\\text{sep}(0)  = \\delta \\approx 0.0000000001$$\n",
    "and we want, for say, times $ t\\in [0,10]$ for us to have \n",
    "$$\\text{sep}(t) \\approx e^{\\lambda t} \\delta$$. \n",
    "\n",
    "So we just take a logarithmic plot of the separation and its slope will be our estimated value for $\\lambda$, since we have \n",
    "\n",
    "$$\\log(\\text{sep}(t)) \\approx \\lambda t + \\log \\delta $$"
   ]
  },
  {
   "cell_type": "code",
   "execution_count": 143,
   "metadata": {
    "collapsed": false
   },
   "outputs": [
   ],
   "source": [
    "# Of course the separation between two points is calculated by the Pythagorean theorem \n",
    "\n",
    "def sep(x1, x2):\n",
    "    return sqrt((x1[0] - x2[0])^2 + (x1[1] - x2[1] )^2 + (x1[2] - x2[2])^2)\n",
    "\n",
    "# Setting some useful values\n",
    "tmax = 10\n",
    "N = 1000\n",
    "h=tmax/N\n",
    "δ = 1e-9\n",
    "#\n",
    "ic1 = [1,1.5,22]\n",
    "ic2 = [1 + δ, 1.5, 22]\n",
    "sol1 = lorenz_solve(ic1, tmax = tmax, N = N)\n",
    "sol2 = lorenz_solve(ic2, tmax = tmax, N = N)\n",
    "seps = [sep(sol1[i], sol2[i]) for i in range(len(sol1))]\n",
    "points = [(h*i, seps[i]) for i in range(len(sol1))]\n",
    "#list_plot(points, plotjoined = True)\n",
    "\n",
    "#logpoints = [(h*i, log(seps[i])) for i in range(len(sol1)) if h*i < 8]\n",
    "#list_plot(logpoints, plotjoined = True)"
   ]
  },
  {
   "cell_type": "code",
   "execution_count": 144,
   "metadata": {
    "collapsed": false
   },
   "outputs": [
   ],
   "source": [
    "# finding the approximate slope\n",
    "\n",
    "#λ,t,c = var('λ,t, c')\n",
    "#model(t) = λ*t + c\n",
    "#fit = find_fit(logpoints, model, solution_dict = True)\n",
    "#fit[λ]\n",
    "#list_plot(logpoints, plotjoined = True) + plot(fit[λ]*t + fit[c], (t,0,8), color = 'red')"
   ]
  },
  {
   "cell_type": "code",
   "execution_count": 0,
   "metadata": {
    "collapsed": false
   },
   "outputs": [
   ],
   "source": [
   ]
  }
 ],
 "metadata": {
  "kernelspec": {
   "display_name": "SageMath 9.2",
   "language": "sagemath",
   "metadata": {
    "cocalc": {
     "description": "Open-source mathematical software system",
     "priority": 10,
     "url": "https://www.sagemath.org/"
    }
   },
   "name": "sage-9.2",
   "resource_dir": "/ext/jupyter/kernels/sage-9.2"
  },
  "language_info": {
   "codemirror_mode": {
    "name": "ipython",
    "version": 3
   },
   "file_extension": ".py",
   "mimetype": "text/x-python",
   "name": "python",
   "nbconvert_exporter": "python",
   "pygments_lexer": "ipython3",
   "version": "3.8.5"
  }
 },
 "nbformat": 4,
 "nbformat_minor": 4
}