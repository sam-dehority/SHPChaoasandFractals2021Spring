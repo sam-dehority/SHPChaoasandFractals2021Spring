{
 "cells": [
  {
   "cell_type": "markdown",
   "metadata": {
    "collapsed": false
   },
   "source": [
    "# Problem 1\n",
    "\n",
    "We care about orbits of rational numbers under doubling and subtracting integers. \n",
    "\n",
    "1. Can you find all such orbits \n",
    "$\\{ \\frac{a_1}{b_1}, \\ldots, \\frac{a_k}{b_k} \\}$\n",
    "such that the length of the orbit is $\\le 5$? It would be great to write a function that finds all with order up to $n$. \n",
    "2. Use the `external_ray` function to plot all of the corresponding external rays on the Mandelbrot set (maybe also do $n = 3$ and $n = 4$)\n",
    "\n",
    "So we've seen that the black circular disks making up the interior of the Mandelbrot set are regions with specific stable orbit structure. The points where these external rays land on the mandelbrot set have specific *parabolic orbit structure* as we'll investigate in the next problem. \n"
   ]
  },
  {
   "cell_type": "markdown",
   "metadata": {
    "collapsed": false
   },
   "source": [
    "---\n",
    "# Problem 2\n",
    "\n",
    "This key result about parabolic orbits is probably best illustrated with an example, which I have taken directly from a Milnor paper arxiv:9905169. Let's pick a very specific \n",
    "$ c = -1.125 + 0.2165i$, approximating a value where $f_c$ has a parabolic orbit of order $2$. \n",
    "\n",
    "1. The external rays for the Julia set which land on the parabolic fixed points are the orbit under doubling of the rational number $11/63$. Find all of the other 6 rational numbers in the orbit. \n",
    "\n",
    "2. Use the code from the demo to plot all of these external rays, together with the point $c =-1.125 + 0.2165i$. For example, we can plot the point and the 3rd and 4th rays\n",
    "\n",
    "       load('SHPChaos.sage')\n",
    "       rays = external_ray_points(c,qs)\n",
    "       ray_plots = [list_plot(r, plotjoined = True, color = 'red') for r in rays]\n",
    "       pt = point((-1.125, 0.21665), color = 'green')\n",
    "       z = var('z')\n",
    "       plot_with_julia(pt + ray_plots[2] + ray_plots[3], z^2 + c)\n",
    "    \n",
    "3. A unique two of these rays separate a region of $\\CC\\backslash J_F$ which contains the point $c$. Which two rational numbers $q1$ and $q2$ are they? \n",
    "\n",
    "4. Plot the two external rays on the mandelbrot set corresponding to $q1$ and $q2$. They meet at a single point $c$. Can you guess (and confirm with `julia_plot(interact = True`) which point $c$ this is? \n",
    "\n"
   ]
  }
 ],
 "metadata": {
  "kernelspec": {
   "display_name": "SageMath 9.2",
   "language": "sagemath",
   "metadata": {
    "cocalc": {
     "description": "Open-source mathematical software system",
     "priority": 10,
     "url": "https://www.sagemath.org/"
    }
   },
   "name": "sage-9.2",
   "resource_dir": "/ext/jupyter/kernels/sage-9.2"
  },
  "language_info": {
   "codemirror_mode": {
    "name": "ipython",
    "version": 3
   },
   "file_extension": ".py",
   "mimetype": "text/x-python",
   "name": "python",
   "nbconvert_exporter": "python",
   "pygments_lexer": "ipython3",
   "version": "3.8.5"
  }
 },
 "nbformat": 4,
 "nbformat_minor": 4
}